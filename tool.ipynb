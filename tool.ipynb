{
 "cells": [
  {
   "cell_type": "markdown",
   "metadata": {},
   "source": [
    "This project builds a Web Scraping Tool that extracts data of a table from a website, transform it into a CSV file and then save it to disc.\n",
    "\n",
    "The repository Web_Scraping_Tool.git stores all the files of the project.\n",
    "\n",
    "The target website to scrap data is: https://en.wikipedia.org/wiki/List_of_French_cheeses"
   ]
  },
  {
   "cell_type": "code",
   "execution_count": null,
   "metadata": {},
   "outputs": [],
   "source": [
    "#Create and activate the virtual environment for this notebook (only run it once in the shell).\n",
    "#python -m venv venv\n",
    "#source env/bin/activate\n",
    "#%pip install -r requirements.txt"
   ]
  },
  {
   "cell_type": "code",
   "execution_count": null,
   "metadata": {},
   "outputs": [],
   "source": [
    "# The website data was previosly downloaded into the file List_of_French_cheeses\n",
    "# In this cell the data of the website is prepared to be scrapped with the variable reponse.\n",
    "import scrapy\n",
    "import os\n",
    "current_dir = os.path.abspath('')\n",
    "url = os.path.join(current_dir, \"List_of_French_cheeses\")\n",
    "with open(url) as _f:\n",
    "    url_data = _f.read()\n",
    "\n",
    "response = scrapy.http.TextResponse(url, body=url_data, encoding='utf-8')"
   ]
  },
  {
   "cell_type": "code",
   "execution_count": null,
   "metadata": {},
   "outputs": [],
   "source": [
    "# First the number of table like objects in the website is determined\n",
    "len(response.xpath('//table'))"
   ]
  },
  {
   "cell_type": "code",
   "execution_count": null,
   "metadata": {},
   "outputs": [],
   "source": [
    "# All numbers are checked to find the one corresponding to the table we want to scrap.\n",
    "response.xpath('//table')[0]"
   ]
  },
  {
   "cell_type": "code",
   "execution_count": null,
   "metadata": {},
   "outputs": [],
   "source": [
    "#Once the table is found it is saved in the variable table. The data from the first row printed to check how it is presented. The unnecesary '\\n' are noticed. \n",
    "table = response.xpath('//table')[0].xpath('tbody')\n",
    "table.xpath('tr')[1].xpath('td//text()').extract()"
   ]
  },
  {
   "cell_type": "code",
   "execution_count": null,
   "metadata": {},
   "outputs": [],
   "source": [
    "#In this loop all the data is printed with the '\\n' removed to check that are the information wanted is available.\n",
    "for tr in table.xpath('tr'):\n",
    "    try:\n",
    "        print([\n",
    "            tr.xpath('td[1]//text()').extract()[0].replace('\\n', \"\"), \n",
    "            tr.xpath('td[2]//text()').extract()[0].replace('\\n', \"\"), \n",
    "            tr.xpath('td[3]//text()').extract()[0].replace('\\n', \"\"),\n",
    "            tr.xpath('td[4]//text()').extract()[0].replace('\\n', \"\"),\n",
    "            tr.xpath('td[5]//text()').extract()[0].replace('\\n', \"\")])\n",
    "    except:\n",
    "        pass   "
   ]
  },
  {
   "cell_type": "code",
   "execution_count": null,
   "metadata": {},
   "outputs": [],
   "source": [
    "# The names of the columns and the data of the rows is saved in lists\n",
    "column_names = [\"Cheese\", \"Year_of_designated_appellation\", \"Producing_region\", \"Type_of_milk\", \"Designation\"]\n",
    "rows= []\n",
    "for tr in table.xpath('tr'):\n",
    "    try:\n",
    "        Cheese = tr.xpath('td[1]//text()').extract()[0].replace('\\n', \"\")\n",
    "        Year_of_designated_appellation = tr.xpath('td[2]//text()').extract()[0].replace('\\n', \"\")\n",
    "        Producing_region = tr.xpath('td[3]//text()').extract()[0].replace('\\n', \"\")\n",
    "        Type_of_milk = tr.xpath('td[4]//text()').extract()[0].replace('\\n', \"\")\n",
    "        Designation = tr.xpath('td[5]//text()').extract()[0].replace('\\n', \"\")\n",
    "        rows.append([Cheese, Year_of_designated_appellation, Producing_region, Type_of_milk, Designation])\n",
    "        \n",
    "    except:\n",
    "        pass\n",
    "\n",
    "print(rows[0][1])\n",
    " \n"
   ]
  },
  {
   "cell_type": "code",
   "execution_count": null,
   "metadata": {},
   "outputs": [],
   "source": [
    "# Now persist it to disk\n",
    "import csv\n",
    "\n",
    "with open(\"French_Cheeses.csv\", \"w\") as _f:\n",
    "    writer = csv.writer(_f)\n",
    "\n",
    "    # write the column names\n",
    "    writer.writerow(column_names)\n",
    "\n",
    "    # now write the rows\n",
    "    writer.writerows(rows)"
   ]
  },
  {
   "cell_type": "code",
   "execution_count": null,
   "metadata": {},
   "outputs": [],
   "source": [
    "# The data is saved in a dictionary whose keys are the name of the cheeses\n",
    "scrapped_data = {}\n",
    "for tr in table.xpath('tr'):\n",
    "    try:\n",
    "        Cheese = tr.xpath('td[1]//text()').extract()[0].replace('\\n', \"\")\n",
    "        Year_of_designated_appellation = tr.xpath('td[2]//text()').extract()[0].replace('\\n', \"\")\n",
    "        Producing_region = tr.xpath('td[3]//text()').extract()[0].replace('\\n', \"\")\n",
    "        Type_of_milk = tr.xpath('td[4]//text()').extract()[0].replace('\\n', \"\")\n",
    "        Designation = tr.xpath('td[5]//text()').extract()[0].replace('\\n', \"\")\n",
    "        scrapped_data[Cheese]= [Year_of_designated_appellation, Producing_region, Type_of_milk, Designation]\n",
    "    except:\n",
    "        pass\n",
    "print (scrapped_data['Abondance'])\n",
    "print (scrapped_data['Abondance'][0])"
   ]
  },
  {
   "cell_type": "code",
   "execution_count": null,
   "metadata": {},
   "outputs": [],
   "source": [
    "# The data is checked before it is saved in a json file.\n",
    "for key in scrapped_data:\n",
    "    print (key, scrapped_data[key][0], scrapped_data[key][1], scrapped_data[key][2], scrapped_data[key][3])"
   ]
  },
  {
   "cell_type": "code",
   "execution_count": null,
   "metadata": {},
   "outputs": [],
   "source": [
    "# The data from the dictionary is stored in a json file\n",
    "import json\n",
    "json_data = json.dumps(scrapped_data)\n",
    "\n",
    "with open(\"French_Cheeses.json\", \"w\") as _f:\n",
    "\n",
    "    json.dump(scrapped_data, _f)"
   ]
  },
  {
   "cell_type": "code",
   "execution_count": null,
   "metadata": {},
   "outputs": [],
   "source": [
    "# The data is also saved in a sqlite database and different queries are performed\n",
    "import sqlite3\n",
    "connection = sqlite3.connect(\"French_Cheeses\")\n",
    "cursor = connection.cursor()\n",
    "cursor.execute('CREATE TABLE cheeses (id integer primary key, Cheese text, Year_of_designated_appellation text, Producing_region text, Type_of_milk text, Designation text)')\n",
    "connection.commit()"
   ]
  },
  {
   "cell_type": "code",
   "execution_count": null,
   "metadata": {},
   "outputs": [],
   "source": [
    "query = 'INSERT INTO cheeses (Cheese, Year_of_designated_appellation, Producing_region, Type_of_milk, Designation)VALUES(?,?,?,?,?)'\n",
    "for tr in table.xpath('tr'):\n",
    "    try:\n",
    "        cursor.execute(query , (tr.xpath('td[1]//text()').extract()[0].replace('\\n', \"\"), \n",
    "                                 tr.xpath('td[2]//text()').extract()[0].replace('\\n', \"\"), \n",
    "                                 tr.xpath('td[3]//text()').extract()[0].replace('\\n', \"\"), \n",
    "                                 tr.xpath('td[4]//text()').extract()[0].replace('\\n', \"\"), \n",
    "                                 tr.xpath('td[5]//text()').extract()[0].replace('\\n', \"\")\n",
    "                                )) \n",
    "        connection.commit()\n",
    "    except: \n",
    "        pass\n",
    "\n"
   ]
  },
  {
   "cell_type": "code",
   "execution_count": null,
   "metadata": {},
   "outputs": [],
   "source": [
    "select_query = 'SELECT COUNT(id) from cheeses'\n",
    "for i in cursor.execute(select_query):\n",
    "    print(i)"
   ]
  },
  {
   "cell_type": "code",
   "execution_count": null,
   "metadata": {},
   "outputs": [],
   "source": [
    "select_query = 'SELECT * from cheeses'\n",
    "for i in cursor.execute(select_query):\n",
    "    print(i)"
   ]
  },
  {
   "cell_type": "code",
   "execution_count": null,
   "metadata": {},
   "outputs": [],
   "source": [
    "select_query = 'SELECT * from cheeses WHERE type_of_milk==\"Goat\"'\n",
    "for i in cursor.execute(select_query):\n",
    "    print(i)"
   ]
  },
  {
   "cell_type": "code",
   "execution_count": null,
   "metadata": {},
   "outputs": [],
   "source": [
    "select_query = 'SELECT * from cheeses WHERE Producing_region==\"Burgundy\"'\n",
    "for i in cursor.execute(select_query):\n",
    "    print(i)"
   ]
  },
  {
   "cell_type": "code",
   "execution_count": null,
   "metadata": {},
   "outputs": [],
   "source": [
    "select_query = 'SELECT * from cheeses WHERE Year_of_designated_appellation > 2010'\n",
    "for i in cursor.execute(select_query):\n",
    "    print(i)"
   ]
  },
  {
   "cell_type": "code",
   "execution_count": null,
   "metadata": {},
   "outputs": [],
   "source": [
    "#The connection is closed\n",
    "connection.close()"
   ]
  },
  {
   "cell_type": "code",
   "execution_count": null,
   "metadata": {},
   "outputs": [],
   "source": [
    "#The connection is opened once again to perform another query\n",
    "connection = sqlite3.connect(\"French_Cheeses\")\n",
    "cursor = connection.cursor()\n",
    "select_query = 'SELECT * from cheeses WHERE Year_of_designated_appellation > 2010'\n",
    "for i in cursor.execute(select_query):\n",
    "    print(i)"
   ]
  },
  {
   "cell_type": "code",
   "execution_count": null,
   "metadata": {},
   "outputs": [],
   "source": [
    "#The connection is closed\n",
    "connection.close()"
   ]
  },
  {
   "cell_type": "code",
   "execution_count": null,
   "metadata": {},
   "outputs": [],
   "source": []
  }
 ],
 "metadata": {
  "kernelspec": {
   "display_name": "Python 3.9.2 64-bit",
   "language": "python",
   "name": "python3"
  },
  "language_info": {
   "codemirror_mode": {
    "name": "ipython",
    "version": 3
   },
   "file_extension": ".py",
   "mimetype": "text/x-python",
   "name": "python",
   "nbconvert_exporter": "python",
   "pygments_lexer": "ipython3",
   "version": "3.9.2"
  },
  "orig_nbformat": 4,
  "vscode": {
   "interpreter": {
    "hash": "916dbcbb3f70747c44a77c7bcd40155683ae19c65e1c03b4aa3499c5328201f1"
   }
  }
 },
 "nbformat": 4,
 "nbformat_minor": 2
}
