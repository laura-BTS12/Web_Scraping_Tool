{
 "cells": [
  {
   "cell_type": "markdown",
   "metadata": {},
   "source": [
    "This project builds a Web Scraping Tool that extracts data of a table from a website, transform it into a CSV file and then save it to disc.\n",
    "\n",
    "The repository Web_Scraping_Tool.git stores all the files of the project.\n",
    "\n",
    "The target website to scrap data is: https://en.wikipedia.org/wiki/List_of_French_cheeses"
   ]
  },
  {
   "cell_type": "code",
   "execution_count": null,
   "metadata": {},
   "outputs": [],
   "source": [
    "#Create and activate the virtual environment for this notebook (only run it once in the shell).\n",
    "#python -m venv venv\n",
    "#source venv/bin/activate\n",
    "#%pip install -r requirements.txt"
   ]
  },
  {
   "cell_type": "code",
   "execution_count": null,
   "metadata": {},
   "outputs": [],
   "source": [
    "# The website data was previosly downloaded into the file List_of_French_cheeses\n",
    "# In this cell the data of the website is prepared to be scrapped with the variable reponse.\n",
    "import scrapy\n",
    "import os\n",
    "current_dir = os.path.abspath('')\n",
    "url = os.path.join(current_dir, \"List_of_French_cheeses\")\n",
    "with open(url) as _f:\n",
    "    url_data = _f.read()\n",
    "\n",
    "response = scrapy.http.TextResponse(url, body=url_data, encoding='utf-8')"
   ]
  },
  {
   "cell_type": "code",
   "execution_count": null,
   "metadata": {},
   "outputs": [],
   "source": [
    "# First the number of table like objects in the website is determined\n",
    "len(response.xpath('//table'))"
   ]
  },
  {
   "cell_type": "code",
   "execution_count": null,
   "metadata": {},
   "outputs": [],
   "source": [
    "# All numbers are checked to find the one corresponding to the table we want to scrap.\n",
    "response.xpath('//table')[0]"
   ]
  },
  {
   "cell_type": "code",
   "execution_count": null,
   "metadata": {},
   "outputs": [],
   "source": [
    "#Once the table is found it is saved in the variable table. The data from the first row printed to check how it is presented. The unnecesary '\\n' are noticed. \n",
    "table = response.xpath('//table')[0].xpath('tbody')\n",
    "table.xpath('tr')[37].xpath('td//text()').extract()"
   ]
  },
  {
   "cell_type": "code",
   "execution_count": 61,
   "metadata": {},
   "outputs": [
    {
     "name": "stdout",
     "output_type": "stream",
     "text": [
      "['Vacherin', '2006', 'Franche-Comté', 'Cow', 'PDO']\n"
     ]
    }
   ],
   "source": [
    "print([\n",
    "        table.xpath('tr')[37].xpath('td[1]/a/text()').extract()[0].replace('\\n', \"\"), \n",
    "        table.xpath('tr')[37].xpath('td[2]//text()').extract()[0].replace('\\n', \"\"), \n",
    "        table.xpath('tr')[37].xpath('td[3]//text()').extract()[0].replace('\\n', \"\"),\n",
    "        table.xpath('tr')[37].xpath('td[4]//text()').extract()[0].replace('\\n', \"\"),\n",
    "        table.xpath('tr')[37].xpath('td[5]//text()').extract()[0].replace('\\n', \"\")])  "
   ]
  },
  {
   "cell_type": "code",
   "execution_count": 62,
   "metadata": {},
   "outputs": [
    {
     "name": "stdout",
     "output_type": "stream",
     "text": [
      "['Abondance', '1990', 'Haute-Savoie', 'Cow', 'PDO']\n",
      "['Banon', '2003', \"Provence-Alpes-Côte d'Azur\", 'Goat', 'PDO']\n",
      "['Beaufort', '1968', 'Savoie', 'Cow', 'PDO']\n",
      "[\"Bleu d'Auvergne\", '1975', 'Auvergne', 'Cow', 'PDO']\n",
      "['Bleu des Causses', '1979', 'Midi-Pyrénées', 'Cow', 'PDO']\n",
      "['Bleu de Gex', '1977', 'Franche-Comté', 'Cow', 'PDO']\n",
      "['Bleu du Vercors-Sassenage', '1998', 'Rhône-Alpes', 'Cow', 'PDO']\n",
      "['Brie de Meaux', '1980', 'Île-de-France', 'Cow', 'PDO']\n",
      "['Brie de Melun', '1980', 'Île-de-France', 'Cow', 'PDO']\n",
      "['Brillat-Savarin', '2015', 'Burgundy', 'Cow', 'PGI']\n",
      "['Brocciu', '1983', 'Corsica', 'Sheep', 'PDO']\n",
      "['Brousse du Rove', '2018', '', '', 'PDO']\n",
      "['Cabécou', '1988', 'Midi-Pyrénées', 'Goat', 'AOC']\n",
      "['Cancoillotte', 'n/a', 'Franche-Comté', 'Cow', 'LR']\n",
      "['Cantal', '1956', 'Auvergne', 'Cow', 'PDO']\n",
      "['Camembert de Normandie', '1983', 'Normandy', 'Cow', 'AOC']\n",
      "['Cazelle de Saint Affrique', 'n/a', 'Midi-Pyrénées', 'Sheep', 'PDO']\n",
      "['Chabichou du Poitou', '1990', 'Poitou-Charentes', 'Goat', 'PDO']\n",
      "['Chaource', '1970', 'Champagne-Ardenne', 'Cow', 'PDO']\n",
      "['Charolais', '2010', '', '', 'PDO']\n",
      "['Chevrotin', '2003', '', '', 'PDO']\n",
      "['Comté', '1952', 'Franche-Comté', 'Cow', 'PDO']\n",
      "['Crottin de Chavignol', '1976', 'Centre-Val de Loire', 'Goat', 'PDO']\n",
      "['Emmental de Savoie', 'n/a', 'Savoie', 'Cow', 'PGI']\n",
      "['Emmental français est-central', 'n/a', 'Franche-Comté', 'Cow', 'PGI']\n",
      "['Époisses', '1991', 'Burgundy', 'Cow', 'PDO']\n",
      "['Faisselle', '', 'Rians', 'Cow, Goat, Sheep', '']\n",
      "[\"Fourme d'Ambert\", '1972', 'Auvergne', 'Cow', 'PDO']\n",
      "['Fourme de Montbrison', '1972', 'Auvergne', 'Cow', 'PDO']\n",
      "['Gruyère', '2018', 'central eastern regions', 'Cow', 'PGI']\n",
      "['Laguiole', '1961', 'Auvergne', 'Cow', 'PDO']\n",
      "['Langres', '1991', 'Champagne-Ardenne', 'Cow', 'PDO']\n",
      "['Livarot', '1972', 'Normandy', 'Cow', 'PDO']\n",
      "['Mâconnais', '2006', 'Burgundy', 'Goat', 'PDO']\n",
      "['Maroilles', '1976', 'Nord-Pas-de-Calais', 'Cow', 'PDO']\n",
      "['Mimolette', 'n/a', 'Nord-Pas-de-Calais', 'Cow', 'LR']\n",
      "['Vacherin', '2006', 'Franche-Comté', 'Cow', 'PDO']\n",
      "['Morbier', '2000', 'Franche-Comté', 'Cow', 'PDO']\n",
      "['Munster', '1969', 'Alsace', 'Cow', 'PDO']\n",
      "['Neufchâtel', '1969', 'Normandy', 'Cow', 'PDO']\n",
      "['Ossau-lraty', '1980', 'Aquitaine', 'Sheep', 'PDO']\n",
      "['Pélardon', '2000', 'Languedoc-Roussillon', 'Goat', 'PDO']\n",
      "['Picodon', '1983', 'Rhône-Alpes', 'Goat', 'PDO']\n",
      "[\"Pont-l'Évêque\", '1976', 'Normandy', 'Cow', 'PDO']\n",
      "['Pouligny-Saint-Pierre', '1972', 'Centre-Val de Loire', 'Goat', 'PDO']\n",
      "['Raclette de Savoie', '2015', '', '', 'PGI']\n",
      "['Reblochon', '1958', 'Savoie', 'Cow', 'PDO']\n",
      "['Rigotte de Condrieu', '2008', 'Lyon', 'Goat', 'PDO']\n",
      "['Rocamadour', '1996', 'Midi-Pyrénées', 'Goat', 'PDO']\n",
      "['Roquefort', '1925', 'Midi-Pyrénées', 'Sheep', 'PDO']\n",
      "['Sainte-Maure de Touraine', '1990', 'Centre-Val de Loire', 'Goat', 'PDO']\n",
      "['Saint-Marcellin', '2010', '', '', 'PGI']\n",
      "['Saint-Nectaire', '1955', 'Auvergne', 'Cow', 'PDO']\n",
      "['Saint-Félicien', 'n/a', 'Rhône-Alpes', 'Cow', 'LR']\n",
      "['Salers', '1979', 'Auvergne', 'Cow', 'PDO']\n",
      "['Selles-sur-Cher', '1975', 'Centre-Val de Loire', 'Goat', 'PDO']\n",
      "['Soumaintrain', '2014', '', '', 'PGI']\n",
      "['Tome des Bauges', '2002', 'Savoie', 'Cow', 'PDO']\n",
      "['Tome fraîche', 'n/a', 'Auvergne', 'Cow', 'AOC']\n",
      "['Tomme de Savoie', 'n/a', 'Savoie', 'Cow', 'PGI']\n",
      "['Tomme des Pyrénées', 'n/a', 'Midi-Pyrénées', 'Cow', 'PGI']\n",
      "['Trou du Cru', 'n/a', 'Burgundy', 'Cow', 'AOC']\n",
      "['Valençay', '1998', 'Centre-Val de Loire', 'Goat', 'PDO']\n"
     ]
    }
   ],
   "source": [
    "#In this loop all the data is printed with the '\\n' removed to check that are the information wanted is available.\n",
    "for tr in table.xpath('tr'):\n",
    "    try:\n",
    "        print([\n",
    "            tr.xpath('td[1]/a/text()').extract()[0].replace('\\n', \"\"), \n",
    "            tr.xpath('td[2]//text()').extract()[0].replace('\\n', \"\"), \n",
    "            tr.xpath('td[3]//text()').extract()[0].replace('\\n', \"\"),\n",
    "            tr.xpath('td[4]//text()').extract()[0].replace('\\n', \"\"),\n",
    "            tr.xpath('td[5]//text()').extract()[0].replace('\\n', \"\")])\n",
    "    except:\n",
    "        pass   "
   ]
  },
  {
   "cell_type": "code",
   "execution_count": 63,
   "metadata": {},
   "outputs": [
    {
     "name": "stdout",
     "output_type": "stream",
     "text": [
      "1990\n"
     ]
    }
   ],
   "source": [
    "# The names of the columns and the data of the rows is saved in lists\n",
    "column_names = [\"Cheese\", \"Year_of_designated_appellation\", \"Producing_region\", \"Type_of_milk\", \"Designation\"]\n",
    "rows= []\n",
    "for tr in table.xpath('tr'):\n",
    "    try:\n",
    "        Cheese = tr.xpath('td[1]/a/text()').extract()[0].replace('\\n', \"\")\n",
    "        Year_of_designated_appellation = tr.xpath('td[2]//text()').extract()[0].replace('\\n', \"\")\n",
    "        Producing_region = tr.xpath('td[3]//text()').extract()[0].replace('\\n', \"\")\n",
    "        Type_of_milk = tr.xpath('td[4]//text()').extract()[0].replace('\\n', \"\")\n",
    "        Designation = tr.xpath('td[5]//text()').extract()[0].replace('\\n', \"\")\n",
    "        rows.append([Cheese, Year_of_designated_appellation, Producing_region, Type_of_milk, Designation])\n",
    "        \n",
    "    except:\n",
    "        pass\n",
    "\n",
    "print(rows[0][1])\n",
    " \n"
   ]
  },
  {
   "cell_type": "code",
   "execution_count": 64,
   "metadata": {},
   "outputs": [],
   "source": [
    "# Now persist it to disk\n",
    "import csv\n",
    "\n",
    "with open(\"French_Cheeses.csv\", \"w\") as _f:\n",
    "    writer = csv.writer(_f)\n",
    "\n",
    "    # write the column names\n",
    "    writer.writerow(column_names)\n",
    "\n",
    "    # now write the rows\n",
    "    writer.writerows(rows)"
   ]
  },
  {
   "cell_type": "code",
   "execution_count": 65,
   "metadata": {},
   "outputs": [
    {
     "name": "stdout",
     "output_type": "stream",
     "text": [
      "['1990', 'Haute-Savoie', 'Cow', 'PDO']\n",
      "1990\n"
     ]
    }
   ],
   "source": [
    "# The data is saved in a dictionary whose keys are the name of the cheeses\n",
    "scrapped_data = {}\n",
    "for tr in table.xpath('tr'):\n",
    "    try:\n",
    "        Cheese = tr.xpath('td[1]/a/text()').extract()[0].replace('\\n', \"\")\n",
    "        Year_of_designated_appellation = tr.xpath('td[2]//text()').extract()[0].replace('\\n', \"\")\n",
    "        Producing_region = tr.xpath('td[3]//text()').extract()[0].replace('\\n', \"\")\n",
    "        Type_of_milk = tr.xpath('td[4]//text()').extract()[0].replace('\\n', \"\")\n",
    "        Designation = tr.xpath('td[5]//text()').extract()[0].replace('\\n', \"\")\n",
    "        scrapped_data[Cheese]= [Year_of_designated_appellation, Producing_region, Type_of_milk, Designation]\n",
    "    except:\n",
    "        pass\n",
    "print (scrapped_data['Abondance'])\n",
    "print (scrapped_data['Abondance'][0])"
   ]
  },
  {
   "cell_type": "code",
   "execution_count": 66,
   "metadata": {},
   "outputs": [
    {
     "name": "stdout",
     "output_type": "stream",
     "text": [
      "Abondance 1990 Haute-Savoie Cow PDO\n",
      "Banon 2003 Provence-Alpes-Côte d'Azur Goat PDO\n",
      "Beaufort 1968 Savoie Cow PDO\n",
      "Bleu d'Auvergne 1975 Auvergne Cow PDO\n",
      "Bleu des Causses 1979 Midi-Pyrénées Cow PDO\n",
      "Bleu de Gex 1977 Franche-Comté Cow PDO\n",
      "Bleu du Vercors-Sassenage 1998 Rhône-Alpes Cow PDO\n",
      "Brie de Meaux 1980 Île-de-France Cow PDO\n",
      "Brie de Melun 1980 Île-de-France Cow PDO\n",
      "Brillat-Savarin 2015 Burgundy Cow PGI\n",
      "Brocciu 1983 Corsica Sheep PDO\n",
      "Brousse du Rove 2018   PDO\n",
      "Cabécou 1988 Midi-Pyrénées Goat AOC\n",
      "Cancoillotte n/a Franche-Comté Cow LR\n",
      "Cantal 1956 Auvergne Cow PDO\n",
      "Camembert de Normandie 1983 Normandy Cow AOC\n",
      "Cazelle de Saint Affrique n/a Midi-Pyrénées Sheep PDO\n",
      "Chabichou du Poitou 1990 Poitou-Charentes Goat PDO\n",
      "Chaource 1970 Champagne-Ardenne Cow PDO\n",
      "Charolais 2010   PDO\n",
      "Chevrotin 2003   PDO\n",
      "Comté 1952 Franche-Comté Cow PDO\n",
      "Crottin de Chavignol 1976 Centre-Val de Loire Goat PDO\n",
      "Emmental de Savoie n/a Savoie Cow PGI\n",
      "Emmental français est-central n/a Franche-Comté Cow PGI\n",
      "Époisses 1991 Burgundy Cow PDO\n",
      "Faisselle  Rians Cow, Goat, Sheep \n",
      "Fourme d'Ambert 1972 Auvergne Cow PDO\n",
      "Fourme de Montbrison 1972 Auvergne Cow PDO\n",
      "Gruyère 2018 central eastern regions Cow PGI\n",
      "Laguiole 1961 Auvergne Cow PDO\n",
      "Langres 1991 Champagne-Ardenne Cow PDO\n",
      "Livarot 1972 Normandy Cow PDO\n",
      "Mâconnais 2006 Burgundy Goat PDO\n",
      "Maroilles 1976 Nord-Pas-de-Calais Cow PDO\n",
      "Mimolette n/a Nord-Pas-de-Calais Cow LR\n",
      "Vacherin 2006 Franche-Comté Cow PDO\n",
      "Morbier 2000 Franche-Comté Cow PDO\n",
      "Munster 1969 Alsace Cow PDO\n",
      "Neufchâtel 1969 Normandy Cow PDO\n",
      "Ossau-lraty 1980 Aquitaine Sheep PDO\n",
      "Pélardon 2000 Languedoc-Roussillon Goat PDO\n",
      "Picodon 1983 Rhône-Alpes Goat PDO\n",
      "Pont-l'Évêque 1976 Normandy Cow PDO\n",
      "Pouligny-Saint-Pierre 1972 Centre-Val de Loire Goat PDO\n",
      "Raclette de Savoie 2015   PGI\n",
      "Reblochon 1958 Savoie Cow PDO\n",
      "Rigotte de Condrieu 2008 Lyon Goat PDO\n",
      "Rocamadour 1996 Midi-Pyrénées Goat PDO\n",
      "Roquefort 1925 Midi-Pyrénées Sheep PDO\n",
      "Sainte-Maure de Touraine 1990 Centre-Val de Loire Goat PDO\n",
      "Saint-Marcellin 2010   PGI\n",
      "Saint-Nectaire 1955 Auvergne Cow PDO\n",
      "Saint-Félicien n/a Rhône-Alpes Cow LR\n",
      "Salers 1979 Auvergne Cow PDO\n",
      "Selles-sur-Cher 1975 Centre-Val de Loire Goat PDO\n",
      "Soumaintrain 2014   PGI\n",
      "Tome des Bauges 2002 Savoie Cow PDO\n",
      "Tome fraîche n/a Auvergne Cow AOC\n",
      "Tomme de Savoie n/a Savoie Cow PGI\n",
      "Tomme des Pyrénées n/a Midi-Pyrénées Cow PGI\n",
      "Trou du Cru n/a Burgundy Cow AOC\n",
      "Valençay 1998 Centre-Val de Loire Goat PDO\n"
     ]
    }
   ],
   "source": [
    "# The data is checked before it is saved in a json file.\n",
    "for key in scrapped_data:\n",
    "    print (key, scrapped_data[key][0], scrapped_data[key][1], scrapped_data[key][2], scrapped_data[key][3])"
   ]
  },
  {
   "cell_type": "code",
   "execution_count": 67,
   "metadata": {},
   "outputs": [],
   "source": [
    "# The data from the dictionary is stored in a json file\n",
    "import json\n",
    "json_data = json.dumps(scrapped_data)\n",
    "\n",
    "with open(\"French_Cheeses.json\", \"w\") as _f:\n",
    "\n",
    "    json.dump(scrapped_data, _f)"
   ]
  },
  {
   "cell_type": "code",
   "execution_count": 69,
   "metadata": {},
   "outputs": [],
   "source": [
    "# The data is also saved in a sqlite database and different queries are performed\n",
    "import sqlite3\n",
    "connection = sqlite3.connect(\"French_Cheeses\")\n",
    "cursor = connection.cursor()\n",
    "cursor.execute('CREATE TABLE cheeses (id integer primary key, Cheese text, Year_of_designated_appellation text, Producing_region text, Type_of_milk text, Designation text)')\n",
    "connection.commit()"
   ]
  },
  {
   "cell_type": "code",
   "execution_count": 70,
   "metadata": {},
   "outputs": [],
   "source": [
    "query = 'INSERT INTO cheeses (Cheese, Year_of_designated_appellation, Producing_region, Type_of_milk, Designation)VALUES(?,?,?,?,?)'\n",
    "for tr in table.xpath('tr'):\n",
    "    try:\n",
    "        cursor.execute(query , (tr.xpath('td[1]/a/text()').extract()[0].replace('\\n', \"\"), \n",
    "                                 tr.xpath('td[2]//text()').extract()[0].replace('\\n', \"\"), \n",
    "                                 tr.xpath('td[3]//text()').extract()[0].replace('\\n', \"\"), \n",
    "                                 tr.xpath('td[4]//text()').extract()[0].replace('\\n', \"\"), \n",
    "                                 tr.xpath('td[5]//text()').extract()[0].replace('\\n', \"\")\n",
    "                                )) \n",
    "        connection.commit()\n",
    "    except: \n",
    "        pass\n",
    "\n"
   ]
  },
  {
   "cell_type": "code",
   "execution_count": 71,
   "metadata": {},
   "outputs": [
    {
     "name": "stdout",
     "output_type": "stream",
     "text": [
      "(63,)\n"
     ]
    }
   ],
   "source": [
    "select_query = 'SELECT COUNT(id) from cheeses'\n",
    "for i in cursor.execute(select_query):\n",
    "    print(i)"
   ]
  },
  {
   "cell_type": "code",
   "execution_count": 72,
   "metadata": {},
   "outputs": [
    {
     "name": "stdout",
     "output_type": "stream",
     "text": [
      "(1, 'Abondance', '1990', 'Haute-Savoie', 'Cow', 'PDO')\n",
      "(2, 'Banon', '2003', \"Provence-Alpes-Côte d'Azur\", 'Goat', 'PDO')\n",
      "(3, 'Beaufort', '1968', 'Savoie', 'Cow', 'PDO')\n",
      "(4, \"Bleu d'Auvergne\", '1975', 'Auvergne', 'Cow', 'PDO')\n",
      "(5, 'Bleu des Causses', '1979', 'Midi-Pyrénées', 'Cow', 'PDO')\n",
      "(6, 'Bleu de Gex', '1977', 'Franche-Comté', 'Cow', 'PDO')\n",
      "(7, 'Bleu du Vercors-Sassenage', '1998', 'Rhône-Alpes', 'Cow', 'PDO')\n",
      "(8, 'Brie de Meaux', '1980', 'Île-de-France', 'Cow', 'PDO')\n",
      "(9, 'Brie de Melun', '1980', 'Île-de-France', 'Cow', 'PDO')\n",
      "(10, 'Brillat-Savarin', '2015', 'Burgundy', 'Cow', 'PGI')\n",
      "(11, 'Brocciu', '1983', 'Corsica', 'Sheep', 'PDO')\n",
      "(12, 'Brousse du Rove', '2018', '', '', 'PDO')\n",
      "(13, 'Cabécou', '1988', 'Midi-Pyrénées', 'Goat', 'AOC')\n",
      "(14, 'Cancoillotte', 'n/a', 'Franche-Comté', 'Cow', 'LR')\n",
      "(15, 'Cantal', '1956', 'Auvergne', 'Cow', 'PDO')\n",
      "(16, 'Camembert de Normandie', '1983', 'Normandy', 'Cow', 'AOC')\n",
      "(17, 'Cazelle de Saint Affrique', 'n/a', 'Midi-Pyrénées', 'Sheep', 'PDO')\n",
      "(18, 'Chabichou du Poitou', '1990', 'Poitou-Charentes', 'Goat', 'PDO')\n",
      "(19, 'Chaource', '1970', 'Champagne-Ardenne', 'Cow', 'PDO')\n",
      "(20, 'Charolais', '2010', '', '', 'PDO')\n",
      "(21, 'Chevrotin', '2003', '', '', 'PDO')\n",
      "(22, 'Comté', '1952', 'Franche-Comté', 'Cow', 'PDO')\n",
      "(23, 'Crottin de Chavignol', '1976', 'Centre-Val de Loire', 'Goat', 'PDO')\n",
      "(24, 'Emmental de Savoie', 'n/a', 'Savoie', 'Cow', 'PGI')\n",
      "(25, 'Emmental français est-central', 'n/a', 'Franche-Comté', 'Cow', 'PGI')\n",
      "(26, 'Époisses', '1991', 'Burgundy', 'Cow', 'PDO')\n",
      "(27, 'Faisselle', '', 'Rians', 'Cow, Goat, Sheep', '')\n",
      "(28, \"Fourme d'Ambert\", '1972', 'Auvergne', 'Cow', 'PDO')\n",
      "(29, 'Fourme de Montbrison', '1972', 'Auvergne', 'Cow', 'PDO')\n",
      "(30, 'Gruyère', '2018', 'central eastern regions', 'Cow', 'PGI')\n",
      "(31, 'Laguiole', '1961', 'Auvergne', 'Cow', 'PDO')\n",
      "(32, 'Langres', '1991', 'Champagne-Ardenne', 'Cow', 'PDO')\n",
      "(33, 'Livarot', '1972', 'Normandy', 'Cow', 'PDO')\n",
      "(34, 'Mâconnais', '2006', 'Burgundy', 'Goat', 'PDO')\n",
      "(35, 'Maroilles', '1976', 'Nord-Pas-de-Calais', 'Cow', 'PDO')\n",
      "(36, 'Mimolette', 'n/a', 'Nord-Pas-de-Calais', 'Cow', 'LR')\n",
      "(37, 'Vacherin', '2006', 'Franche-Comté', 'Cow', 'PDO')\n",
      "(38, 'Morbier', '2000', 'Franche-Comté', 'Cow', 'PDO')\n",
      "(39, 'Munster', '1969', 'Alsace', 'Cow', 'PDO')\n",
      "(40, 'Neufchâtel', '1969', 'Normandy', 'Cow', 'PDO')\n",
      "(41, 'Ossau-lraty', '1980', 'Aquitaine', 'Sheep', 'PDO')\n",
      "(42, 'Pélardon', '2000', 'Languedoc-Roussillon', 'Goat', 'PDO')\n",
      "(43, 'Picodon', '1983', 'Rhône-Alpes', 'Goat', 'PDO')\n",
      "(44, \"Pont-l'Évêque\", '1976', 'Normandy', 'Cow', 'PDO')\n",
      "(45, 'Pouligny-Saint-Pierre', '1972', 'Centre-Val de Loire', 'Goat', 'PDO')\n",
      "(46, 'Raclette de Savoie', '2015', '', '', 'PGI')\n",
      "(47, 'Reblochon', '1958', 'Savoie', 'Cow', 'PDO')\n",
      "(48, 'Rigotte de Condrieu', '2008', 'Lyon', 'Goat', 'PDO')\n",
      "(49, 'Rocamadour', '1996', 'Midi-Pyrénées', 'Goat', 'PDO')\n",
      "(50, 'Roquefort', '1925', 'Midi-Pyrénées', 'Sheep', 'PDO')\n",
      "(51, 'Sainte-Maure de Touraine', '1990', 'Centre-Val de Loire', 'Goat', 'PDO')\n",
      "(52, 'Saint-Marcellin', '2010', '', '', 'PGI')\n",
      "(53, 'Saint-Nectaire', '1955', 'Auvergne', 'Cow', 'PDO')\n",
      "(54, 'Saint-Félicien', 'n/a', 'Rhône-Alpes', 'Cow', 'LR')\n",
      "(55, 'Salers', '1979', 'Auvergne', 'Cow', 'PDO')\n",
      "(56, 'Selles-sur-Cher', '1975', 'Centre-Val de Loire', 'Goat', 'PDO')\n",
      "(57, 'Soumaintrain', '2014', '', '', 'PGI')\n",
      "(58, 'Tome des Bauges', '2002', 'Savoie', 'Cow', 'PDO')\n",
      "(59, 'Tome fraîche', 'n/a', 'Auvergne', 'Cow', 'AOC')\n",
      "(60, 'Tomme de Savoie', 'n/a', 'Savoie', 'Cow', 'PGI')\n",
      "(61, 'Tomme des Pyrénées', 'n/a', 'Midi-Pyrénées', 'Cow', 'PGI')\n",
      "(62, 'Trou du Cru', 'n/a', 'Burgundy', 'Cow', 'AOC')\n",
      "(63, 'Valençay', '1998', 'Centre-Val de Loire', 'Goat', 'PDO')\n"
     ]
    }
   ],
   "source": [
    "select_query = 'SELECT * from cheeses'\n",
    "for i in cursor.execute(select_query):\n",
    "    print(i)"
   ]
  },
  {
   "cell_type": "code",
   "execution_count": 76,
   "metadata": {},
   "outputs": [
    {
     "name": "stdout",
     "output_type": "stream",
     "text": [
      "(6, 'Bleu de Gex', '1977', 'Franche-Comté', 'Cow', 'PDO')\n"
     ]
    }
   ],
   "source": [
    "select_query = 'SELECT * from cheeses WHERE cheese==\"Bleu de Gex\"'\n",
    "for i in cursor.execute(select_query):\n",
    "    print(i)"
   ]
  },
  {
   "cell_type": "code",
   "execution_count": 77,
   "metadata": {},
   "outputs": [
    {
     "name": "stdout",
     "output_type": "stream",
     "text": [
      "(10, 'Brillat-Savarin', '2015', 'Burgundy', 'Cow', 'PGI')\n",
      "(26, 'Époisses', '1991', 'Burgundy', 'Cow', 'PDO')\n",
      "(34, 'Mâconnais', '2006', 'Burgundy', 'Goat', 'PDO')\n",
      "(62, 'Trou du Cru', 'n/a', 'Burgundy', 'Cow', 'AOC')\n"
     ]
    }
   ],
   "source": [
    "select_query = 'SELECT * from cheeses WHERE Producing_region==\"Burgundy\"'\n",
    "for i in cursor.execute(select_query):\n",
    "    print(i)"
   ]
  },
  {
   "cell_type": "code",
   "execution_count": 78,
   "metadata": {},
   "outputs": [
    {
     "name": "stdout",
     "output_type": "stream",
     "text": [
      "(10, 'Brillat-Savarin', '2015', 'Burgundy', 'Cow', 'PGI')\n",
      "(12, 'Brousse du Rove', '2018', '', '', 'PDO')\n",
      "(14, 'Cancoillotte', 'n/a', 'Franche-Comté', 'Cow', 'LR')\n",
      "(17, 'Cazelle de Saint Affrique', 'n/a', 'Midi-Pyrénées', 'Sheep', 'PDO')\n",
      "(24, 'Emmental de Savoie', 'n/a', 'Savoie', 'Cow', 'PGI')\n",
      "(25, 'Emmental français est-central', 'n/a', 'Franche-Comté', 'Cow', 'PGI')\n",
      "(30, 'Gruyère', '2018', 'central eastern regions', 'Cow', 'PGI')\n",
      "(36, 'Mimolette', 'n/a', 'Nord-Pas-de-Calais', 'Cow', 'LR')\n",
      "(46, 'Raclette de Savoie', '2015', '', '', 'PGI')\n",
      "(54, 'Saint-Félicien', 'n/a', 'Rhône-Alpes', 'Cow', 'LR')\n",
      "(57, 'Soumaintrain', '2014', '', '', 'PGI')\n",
      "(59, 'Tome fraîche', 'n/a', 'Auvergne', 'Cow', 'AOC')\n",
      "(60, 'Tomme de Savoie', 'n/a', 'Savoie', 'Cow', 'PGI')\n",
      "(61, 'Tomme des Pyrénées', 'n/a', 'Midi-Pyrénées', 'Cow', 'PGI')\n",
      "(62, 'Trou du Cru', 'n/a', 'Burgundy', 'Cow', 'AOC')\n"
     ]
    }
   ],
   "source": [
    "select_query = 'SELECT * from cheeses WHERE Year_of_designated_appellation > 2010'\n",
    "for i in cursor.execute(select_query):\n",
    "    print(i)"
   ]
  },
  {
   "cell_type": "code",
   "execution_count": 79,
   "metadata": {},
   "outputs": [],
   "source": [
    "#The connection is closed\n",
    "connection.close()"
   ]
  },
  {
   "cell_type": "code",
   "execution_count": 80,
   "metadata": {},
   "outputs": [
    {
     "name": "stdout",
     "output_type": "stream",
     "text": [
      "(10, 'Brillat-Savarin', '2015', 'Burgundy', 'Cow', 'PGI')\n",
      "(12, 'Brousse du Rove', '2018', '', '', 'PDO')\n",
      "(14, 'Cancoillotte', 'n/a', 'Franche-Comté', 'Cow', 'LR')\n",
      "(17, 'Cazelle de Saint Affrique', 'n/a', 'Midi-Pyrénées', 'Sheep', 'PDO')\n",
      "(24, 'Emmental de Savoie', 'n/a', 'Savoie', 'Cow', 'PGI')\n",
      "(25, 'Emmental français est-central', 'n/a', 'Franche-Comté', 'Cow', 'PGI')\n",
      "(30, 'Gruyère', '2018', 'central eastern regions', 'Cow', 'PGI')\n",
      "(36, 'Mimolette', 'n/a', 'Nord-Pas-de-Calais', 'Cow', 'LR')\n",
      "(46, 'Raclette de Savoie', '2015', '', '', 'PGI')\n",
      "(54, 'Saint-Félicien', 'n/a', 'Rhône-Alpes', 'Cow', 'LR')\n",
      "(57, 'Soumaintrain', '2014', '', '', 'PGI')\n",
      "(59, 'Tome fraîche', 'n/a', 'Auvergne', 'Cow', 'AOC')\n",
      "(60, 'Tomme de Savoie', 'n/a', 'Savoie', 'Cow', 'PGI')\n",
      "(61, 'Tomme des Pyrénées', 'n/a', 'Midi-Pyrénées', 'Cow', 'PGI')\n",
      "(62, 'Trou du Cru', 'n/a', 'Burgundy', 'Cow', 'AOC')\n"
     ]
    }
   ],
   "source": [
    "#The connection is opened once again to perform another query\n",
    "connection = sqlite3.connect(\"French_Cheeses\")\n",
    "cursor = connection.cursor()\n",
    "select_query = 'SELECT * from cheeses WHERE Year_of_designated_appellation > 2010'\n",
    "for i in cursor.execute(select_query):\n",
    "    print(i)"
   ]
  },
  {
   "cell_type": "code",
   "execution_count": 81,
   "metadata": {},
   "outputs": [],
   "source": [
    "#The connection is closed\n",
    "connection.close()"
   ]
  },
  {
   "cell_type": "code",
   "execution_count": null,
   "metadata": {},
   "outputs": [],
   "source": []
  }
 ],
 "metadata": {
  "kernelspec": {
   "display_name": "Python 3.9.2 64-bit",
   "language": "python",
   "name": "python3"
  },
  "language_info": {
   "codemirror_mode": {
    "name": "ipython",
    "version": 3
   },
   "file_extension": ".py",
   "mimetype": "text/x-python",
   "name": "python",
   "nbconvert_exporter": "python",
   "pygments_lexer": "ipython3",
   "version": "3.9.2"
  },
  "orig_nbformat": 4,
  "vscode": {
   "interpreter": {
    "hash": "916dbcbb3f70747c44a77c7bcd40155683ae19c65e1c03b4aa3499c5328201f1"
   }
  }
 },
 "nbformat": 4,
 "nbformat_minor": 2
}
